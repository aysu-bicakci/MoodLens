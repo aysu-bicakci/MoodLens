{
 "cells": [
  {
   "cell_type": "code",
   "execution_count": 2,
   "id": "1b63ff2d",
   "metadata": {},
   "outputs": [
    {
     "name": "stdout",
     "output_type": "stream",
     "text": [
      "✅ Model eğitildi ve kaydedildi.\n"
     ]
    }
   ],
   "source": [
    "from deepface import DeepFace\n",
    "import os\n",
    "import pickle\n",
    "from sklearn.neighbors import KNeighborsClassifier\n",
    "\n",
    "embeddings = []\n",
    "labels = []\n",
    "\n",
    "dataset_path = \"dataset\"\n",
    "\n",
    "for person in os.listdir(dataset_path):\n",
    "    person_path = os.path.join(dataset_path, person)\n",
    "    if not os.path.isdir(person_path):\n",
    "        continue  # Eğer klasör değilse atla\n",
    "    for img_name in os.listdir(person_path):\n",
    "        img_path = os.path.join(person_path, img_name)\n",
    "        try:\n",
    "            result = DeepFace.represent(img_path=img_path, model_name=\"Facenet\", enforce_detection=False)\n",
    "            embeddings.append(result[0][\"embedding\"])\n",
    "            labels.append(person)\n",
    "        except Exception as e:\n",
    "            print(f\"{img_path} alınamadı:\", e)\n",
    "\n",
    "\n",
    "# Modeli eğit\n",
    "model = KNeighborsClassifier(n_neighbors=1)\n",
    "model.fit(embeddings, labels)\n",
    "\n",
    "# Kaydet\n",
    "with open(\"face_knn_model.pkl\", \"wb\") as f:\n",
    "    pickle.dump(model, f)\n",
    "\n",
    "print(\"✅ Model eğitildi ve kaydedildi.\")\n"
   ]
  }
 ],
 "metadata": {
  "kernelspec": {
   "display_name": "Python 3",
   "language": "python",
   "name": "python3"
  },
  "language_info": {
   "codemirror_mode": {
    "name": "ipython",
    "version": 3
   },
   "file_extension": ".py",
   "mimetype": "text/x-python",
   "name": "python",
   "nbconvert_exporter": "python",
   "pygments_lexer": "ipython3",
   "version": "3.10.16"
  }
 },
 "nbformat": 4,
 "nbformat_minor": 5
}
