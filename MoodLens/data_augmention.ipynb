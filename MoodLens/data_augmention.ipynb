{
 "cells": [
  {
   "cell_type": "code",
   "execution_count": 8,
   "id": "1d1e60f3",
   "metadata": {},
   "outputs": [
    {
     "name": "stdout",
     "output_type": "stream",
     "text": [
      "✅ Veri artırma tamamlandı.\n"
     ]
    }
   ],
   "source": [
    "import os\n",
    "from tensorflow.keras.preprocessing.image import ImageDataGenerator, img_to_array, load_img, array_to_img, save_img\n",
    "\n",
    "# Klasör yolu (örnek: dataset/train/Aysu)\n",
    "base_path = \"dataset/test\"  # veya \"dataset/test\" için test verilerini de çoğaltabilirsin\n",
    "\n",
    "# Augmentation parametreleri\n",
    "datagen = ImageDataGenerator(\n",
    "    rotation_range=10,\n",
    "    width_shift_range=0.1,\n",
    "    height_shift_range=0.1,\n",
    "    brightness_range=[0.8, 1.2],\n",
    "    zoom_range=0.1,\n",
    "    horizontal_flip=True,\n",
    "    fill_mode='nearest'\n",
    ")\n",
    "\n",
    "for person in os.listdir(base_path):\n",
    "    person_path = os.path.join(base_path, person)\n",
    "    if not os.path.isdir(person_path):\n",
    "        continue\n",
    "    for img_name in os.listdir(person_path):\n",
    "        img_path = os.path.join(person_path, img_name)\n",
    "        try:\n",
    "            img = load_img(img_path)  # resim yükleniyor\n",
    "            x = img_to_array(img)     # numpy array'e çevir\n",
    "            x = x.reshape((1,) + x.shape)\n",
    "\n",
    "            i = 0\n",
    "            for batch in datagen.flow(x, batch_size=1, save_to_dir=person_path,\n",
    "                                      save_prefix='aug', save_format='jpg'):\n",
    "                i += 1\n",
    "                if i >= 5:  # Her fotoğraf için 5 yeni fotoğraf üret\n",
    "                    break\n",
    "        except Exception as e:\n",
    "            print(f\"{img_path} için hata: {e}\")\n",
    "\n",
    "print(\"✅ Veri artırma tamamlandı.\")\n"
   ]
  }
 ],
 "metadata": {
  "kernelspec": {
   "display_name": "Python 3",
   "language": "python",
   "name": "python3"
  },
  "language_info": {
   "codemirror_mode": {
    "name": "ipython",
    "version": 3
   },
   "file_extension": ".py",
   "mimetype": "text/x-python",
   "name": "python",
   "nbconvert_exporter": "python",
   "pygments_lexer": "ipython3",
   "version": "3.10.16"
  }
 },
 "nbformat": 4,
 "nbformat_minor": 5
}
