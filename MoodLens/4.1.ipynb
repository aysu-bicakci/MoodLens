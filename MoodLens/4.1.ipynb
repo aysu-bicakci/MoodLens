{
 "cells": [
  {
   "cell_type": "code",
   "execution_count": 1,
   "id": "12e2871c-8440-48f8-8309-a09775f62f2c",
   "metadata": {},
   "outputs": [],
   "source": [
    "import os\n",
    "import numpy as np\n",
    "import matplotlib.pyplot as plt\n",
    "from tensorflow.keras.preprocessing.image import ImageDataGenerator\n",
    "from tensorflow.keras.models import Sequential\n",
    "from tensorflow.keras.layers import Conv2D, MaxPooling2D, Flatten, Dense"
   ]
  },
  {
   "cell_type": "code",
   "execution_count": 2,
   "id": "bf8fa8ae-e8a7-4262-b30a-92472ab684c7",
   "metadata": {},
   "outputs": [],
   "source": [
    "# Veri yollarını tanımlayalım\n",
    "train_dir = \"C:\\\\Users\\\\Yusuf\\\\source\\\\jupyter\\\\dl\\\\images\\\\train\"\n",
    "validation_dir = \"C:\\\\Users\\\\Yusuf\\\\source\\\\jupyter\\\\dl\\\\images\\\\validation\"\n",
    "train_happy_dir = os.path.join(train_dir, 'happy')\n",
    "train_sad_dir = os.path.join(train_dir, 'sad')\n",
    "validation_happy_dir = os.path.join(validation_dir, 'happy')\n",
    "validation_sad_dir = os.path.join(validation_dir, 'sad')"
   ]
  },
  {
   "cell_type": "code",
   "execution_count": 3,
   "id": "726a6ab2-70a1-4faa-917d-f3148cc9e756",
   "metadata": {},
   "outputs": [
    {
     "name": "stdout",
     "output_type": "stream",
     "text": [
      "Found 12102 images belonging to 2 classes.\n",
      "Found 2964 images belonging to 2 classes.\n"
     ]
    }
   ],
   "source": [
    "# Veri artırma ve ölçekleme\n",
    "train_datagen = ImageDataGenerator(rescale=1./255)\n",
    "validation_datagen = ImageDataGenerator(rescale=1./255)\n",
    "\n",
    "train_generator = train_datagen.flow_from_directory(\n",
    "    train_dir,\n",
    "    target_size=(48, 48),\n",
    "    batch_size=32,\n",
    "    class_mode='binary'\n",
    ")\n",
    "\n",
    "validation_generator = validation_datagen.flow_from_directory(\n",
    "    validation_dir,\n",
    "    target_size=(48, 48),\n",
    "    batch_size=32,\n",
    "    class_mode='binary'\n",
    ")"
   ]
  },
  {
   "cell_type": "code",
   "execution_count": 4,
   "id": "57f841dd-0a4f-426d-9f28-ac5d8b08b1e0",
   "metadata": {},
   "outputs": [],
   "source": [
    "# CNN modeli oluşturalım\n",
    "model = Sequential([\n",
    "    Conv2D(32, (3, 3), activation='relu', input_shape=(48, 48, 3)),\n",
    "    MaxPooling2D(2, 2),\n",
    "    Conv2D(64, (3, 3), activation='relu'),\n",
    "    MaxPooling2D(2, 2),\n",
    "    Conv2D(128, (3, 3), activation='relu'),\n",
    "    MaxPooling2D(2, 2),\n",
    "    Conv2D(128, (3, 3), activation='relu'),\n",
    "    MaxPooling2D(2, 2),\n",
    "    Flatten(),\n",
    "    Dense(512, activation='relu'),\n",
    "    Dense(1, activation='sigmoid')\n",
    "])\n",
    "\n",
    "model.compile(loss='binary_crossentropy',\n",
    "              optimizer='adam',\n",
    "              metrics=['accuracy'])"
   ]
  },
  {
   "cell_type": "code",
   "execution_count": 5,
   "id": "bea45613-23ce-45c7-8564-c2b69c4037cc",
   "metadata": {},
   "outputs": [
    {
     "name": "stdout",
     "output_type": "stream",
     "text": [
      "Epoch 1/50\n",
      "100/100 [==============================] - 12s 110ms/step - loss: 0.6799 - accuracy: 0.5909 - val_loss: 0.6690 - val_accuracy: 0.6137\n",
      "Epoch 2/50\n",
      "100/100 [==============================] - 12s 124ms/step - loss: 0.6748 - accuracy: 0.5806 - val_loss: 0.6606 - val_accuracy: 0.6187\n",
      "Epoch 3/50\n",
      "100/100 [==============================] - 13s 130ms/step - loss: 0.5963 - accuracy: 0.6664 - val_loss: 0.5387 - val_accuracy: 0.7200\n",
      "Epoch 4/50\n",
      "100/100 [==============================] - 13s 126ms/step - loss: 0.5197 - accuracy: 0.7366 - val_loss: 0.4781 - val_accuracy: 0.7563\n",
      "Epoch 5/50\n",
      "100/100 [==============================] - 13s 129ms/step - loss: 0.4635 - accuracy: 0.7666 - val_loss: 0.4379 - val_accuracy: 0.7887\n",
      "Epoch 6/50\n",
      "100/100 [==============================] - 11s 111ms/step - loss: 0.4448 - accuracy: 0.7782 - val_loss: 0.4124 - val_accuracy: 0.8019\n",
      "Epoch 7/50\n",
      "100/100 [==============================] - 12s 120ms/step - loss: 0.3912 - accuracy: 0.8091 - val_loss: 0.4256 - val_accuracy: 0.7962\n",
      "Epoch 8/50\n",
      "100/100 [==============================] - 11s 112ms/step - loss: 0.4062 - accuracy: 0.8050 - val_loss: 0.4168 - val_accuracy: 0.7894\n",
      "Epoch 9/50\n",
      "100/100 [==============================] - 12s 121ms/step - loss: 0.3660 - accuracy: 0.8316 - val_loss: 0.3451 - val_accuracy: 0.8363\n",
      "Epoch 10/50\n",
      "100/100 [==============================] - 11s 111ms/step - loss: 0.3700 - accuracy: 0.8303 - val_loss: 0.3685 - val_accuracy: 0.8344\n",
      "Epoch 11/50\n",
      "100/100 [==============================] - 12s 119ms/step - loss: 0.3263 - accuracy: 0.8528 - val_loss: 0.3567 - val_accuracy: 0.8331\n",
      "Epoch 12/50\n",
      "100/100 [==============================] - 12s 115ms/step - loss: 0.3273 - accuracy: 0.8553 - val_loss: 0.3528 - val_accuracy: 0.8487\n",
      "Epoch 13/50\n",
      "100/100 [==============================] - 12s 121ms/step - loss: 0.3247 - accuracy: 0.8513 - val_loss: 0.3779 - val_accuracy: 0.8231\n",
      "Epoch 14/50\n",
      "100/100 [==============================] - 12s 115ms/step - loss: 0.2850 - accuracy: 0.8753 - val_loss: 0.3704 - val_accuracy: 0.8263\n",
      "Epoch 15/50\n",
      "100/100 [==============================] - 11s 110ms/step - loss: 0.3032 - accuracy: 0.8653 - val_loss: 0.4120 - val_accuracy: 0.7987\n",
      "Epoch 16/50\n",
      "100/100 [==============================] - 12s 122ms/step - loss: 0.3053 - accuracy: 0.8691 - val_loss: 0.3340 - val_accuracy: 0.8438\n",
      "Epoch 17/50\n",
      "100/100 [==============================] - 11s 114ms/step - loss: 0.2750 - accuracy: 0.8866 - val_loss: 0.3403 - val_accuracy: 0.8494\n",
      "Epoch 18/50\n",
      "100/100 [==============================] - 12s 123ms/step - loss: 0.2683 - accuracy: 0.8847 - val_loss: 0.3362 - val_accuracy: 0.8512\n",
      "Epoch 19/50\n",
      "100/100 [==============================] - 11s 113ms/step - loss: 0.2784 - accuracy: 0.8822 - val_loss: 0.3537 - val_accuracy: 0.8519\n",
      "Epoch 20/50\n",
      "100/100 [==============================] - 12s 119ms/step - loss: 0.2410 - accuracy: 0.9009 - val_loss: 0.3208 - val_accuracy: 0.8637\n",
      "Epoch 21/50\n",
      "100/100 [==============================] - 12s 118ms/step - loss: 0.2651 - accuracy: 0.8885 - val_loss: 0.3305 - val_accuracy: 0.8562\n",
      "Epoch 22/50\n",
      "100/100 [==============================] - 12s 121ms/step - loss: 0.2568 - accuracy: 0.8947 - val_loss: 0.3323 - val_accuracy: 0.8444\n",
      "Epoch 23/50\n",
      "100/100 [==============================] - 12s 122ms/step - loss: 0.2324 - accuracy: 0.8978 - val_loss: 0.3351 - val_accuracy: 0.8537\n",
      "Epoch 24/50\n",
      "100/100 [==============================] - 13s 129ms/step - loss: 0.2164 - accuracy: 0.9159 - val_loss: 0.3718 - val_accuracy: 0.8487\n",
      "Epoch 25/50\n",
      "100/100 [==============================] - 12s 122ms/step - loss: 0.2348 - accuracy: 0.9019 - val_loss: 0.3399 - val_accuracy: 0.8581\n",
      "Epoch 26/50\n",
      "100/100 [==============================] - 11s 107ms/step - loss: 0.2179 - accuracy: 0.9119 - val_loss: 0.3501 - val_accuracy: 0.8544\n",
      "Epoch 27/50\n",
      "100/100 [==============================] - 11s 112ms/step - loss: 0.1887 - accuracy: 0.9225 - val_loss: 0.3440 - val_accuracy: 0.8662\n",
      "Epoch 28/50\n",
      "100/100 [==============================] - 10s 101ms/step - loss: 0.1904 - accuracy: 0.9222 - val_loss: 0.3093 - val_accuracy: 0.8725\n",
      "Epoch 29/50\n",
      "100/100 [==============================] - 11s 112ms/step - loss: 0.1968 - accuracy: 0.9209 - val_loss: 0.3230 - val_accuracy: 0.8625\n",
      "Epoch 30/50\n",
      "100/100 [==============================] - 11s 112ms/step - loss: 0.1831 - accuracy: 0.9300 - val_loss: 0.3253 - val_accuracy: 0.8775\n",
      "Epoch 31/50\n",
      "100/100 [==============================] - 11s 110ms/step - loss: 0.1821 - accuracy: 0.9234 - val_loss: 0.3673 - val_accuracy: 0.8644\n",
      "Epoch 32/50\n",
      "100/100 [==============================] - 11s 107ms/step - loss: 0.1810 - accuracy: 0.9291 - val_loss: 0.3700 - val_accuracy: 0.8662\n",
      "Epoch 33/50\n",
      "100/100 [==============================] - 12s 121ms/step - loss: 0.1830 - accuracy: 0.9307 - val_loss: 0.4069 - val_accuracy: 0.8400\n",
      "Epoch 34/50\n",
      "100/100 [==============================] - 11s 112ms/step - loss: 0.1744 - accuracy: 0.9279 - val_loss: 0.3369 - val_accuracy: 0.8681\n",
      "Epoch 35/50\n",
      "100/100 [==============================] - 9s 85ms/step - loss: 0.1581 - accuracy: 0.9381 - val_loss: 0.3668 - val_accuracy: 0.8656\n",
      "Epoch 36/50\n",
      "100/100 [==============================] - 6s 63ms/step - loss: 0.1421 - accuracy: 0.9481 - val_loss: 0.3662 - val_accuracy: 0.8625\n",
      "Epoch 37/50\n",
      "100/100 [==============================] - 7s 67ms/step - loss: 0.1540 - accuracy: 0.9405 - val_loss: 0.4104 - val_accuracy: 0.8506\n",
      "Epoch 38/50\n",
      "100/100 [==============================] - 7s 69ms/step - loss: 0.1415 - accuracy: 0.9490 - val_loss: 0.3650 - val_accuracy: 0.8656\n",
      "Epoch 39/50\n",
      "100/100 [==============================] - 7s 70ms/step - loss: 0.1487 - accuracy: 0.9428 - val_loss: 0.3865 - val_accuracy: 0.8569\n",
      "Epoch 40/50\n",
      "100/100 [==============================] - 6s 64ms/step - loss: 0.1490 - accuracy: 0.9376 - val_loss: 0.3686 - val_accuracy: 0.8687\n",
      "Epoch 41/50\n",
      "100/100 [==============================] - 7s 67ms/step - loss: 0.1178 - accuracy: 0.9544 - val_loss: 0.3868 - val_accuracy: 0.8694\n",
      "Epoch 42/50\n",
      "100/100 [==============================] - 6s 64ms/step - loss: 0.1249 - accuracy: 0.9538 - val_loss: 0.4226 - val_accuracy: 0.8725\n",
      "Epoch 43/50\n",
      "100/100 [==============================] - 7s 68ms/step - loss: 0.1330 - accuracy: 0.9528 - val_loss: 0.3812 - val_accuracy: 0.8750\n",
      "Epoch 44/50\n",
      "100/100 [==============================] - 6s 62ms/step - loss: 0.1113 - accuracy: 0.9600 - val_loss: 0.4593 - val_accuracy: 0.8525\n",
      "Epoch 45/50\n",
      "100/100 [==============================] - 7s 70ms/step - loss: 0.1311 - accuracy: 0.9471 - val_loss: 0.4274 - val_accuracy: 0.8531\n",
      "Epoch 46/50\n",
      "100/100 [==============================] - 7s 68ms/step - loss: 0.1097 - accuracy: 0.9594 - val_loss: 0.4493 - val_accuracy: 0.8531\n",
      "Epoch 47/50\n",
      "100/100 [==============================] - 7s 68ms/step - loss: 0.0912 - accuracy: 0.9678 - val_loss: 0.4314 - val_accuracy: 0.8656\n",
      "Epoch 48/50\n",
      "100/100 [==============================] - 6s 63ms/step - loss: 0.1039 - accuracy: 0.9616 - val_loss: 0.4203 - val_accuracy: 0.8706\n",
      "Epoch 49/50\n",
      "100/100 [==============================] - 6s 63ms/step - loss: 0.0904 - accuracy: 0.9672 - val_loss: 0.4629 - val_accuracy: 0.8525\n",
      "Epoch 50/50\n",
      "100/100 [==============================] - 7s 69ms/step - loss: 0.0934 - accuracy: 0.9656 - val_loss: 0.4696 - val_accuracy: 0.8519\n"
     ]
    }
   ],
   "source": [
    "# Modeli eğitelim\n",
    "history = model.fit(\n",
    "    train_generator,\n",
    "    steps_per_epoch=100,\n",
    "    epochs=50,\n",
    "    validation_data=validation_generator,\n",
    "    validation_steps=50\n",
    ")"
   ]
  },
  {
   "cell_type": "code",
   "execution_count": 6,
   "id": "e8298be3-064c-42e9-ba6a-f8b9761c125b",
   "metadata": {},
   "outputs": [
    {
     "data": {
      "image/png": "[encoded data removed]",
      "text/plain": [
       "<Figure size 640x480 with 1 Axes>"
      ]
     },
     "metadata": {},
     "output_type": "display_data"
    }
   ],
   "source": [
    "# Sonuçları çizdirelim\n",
    "train_acc = history.history['accuracy']\n",
    "val_acc = history.history['val_accuracy']\n",
    "epochs = range(1, len(train_acc) + 1)\n",
    "\n",
    "plt.plot(epochs, train_acc, 'bo', label='Training accuracy')\n",
    "plt.plot(epochs, val_acc, 'b', label='Validation accuracy')\n",
    "plt.title('Training and validation accuracy')\n",
    "plt.xlabel('Epochs')\n",
    "plt.ylabel('Accuracy')\n",
    "plt.legend()\n",
    "plt.show()"
   ]
  },
  {
   "cell_type": "code",
   "execution_count": 7,
   "id": "cc7d62b6-1fb6-45bb-8565-9e6183c82225",
   "metadata": {},
   "outputs": [],
   "source": [
    "# Modeli kaydedelim\n",
    "model.save('model_training_validation_100.h5')"
   ]
  },
  {
   "cell_type": "code",
   "execution_count": null,
   "id": "a40d2b19-113c-47fe-90f4-a8b65d8c091d",
   "metadata": {},
   "outputs": [],
   "source": []
  }
 ],
 "metadata": {
  "kernelspec": {
   "display_name": "Python 3 (ipykernel)",
   "language": "python",
   "name": "python3"
  },
  "language_info": {
   "codemirror_mode": {
    "name": "ipython",
    "version": 3
   },
   "file_extension": ".py",
   "mimetype": "text/x-python",
   "name": "python",
   "nbconvert_exporter": "python",
   "pygments_lexer": "ipython3",
   "version": "3.10.13"
  }
 },
 "nbformat": 4,
 "nbformat_minor": 5
}
